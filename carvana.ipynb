{
 "cells": [
  {
   "cell_type": "code",
   "execution_count": 35,
   "metadata": {
    "scrolled": true
   },
   "outputs": [
    {
     "data": {
      "image/png": "[encoded data removed]",
      "text/plain": [
       "<matplotlib.figure.Figure at 0x7f7e1b884748>"
      ]
     },
     "metadata": {},
     "output_type": "display_data"
    },
    {
     "name": "stdout",
     "output_type": "stream",
     "text": [
      "(128, 128, 3)\n"
     ]
    }
   ],
   "source": [
    "import os\n",
    "import numpy as np\n",
    "import tensorflow as tf\n",
    "from keras.models import Sequential, Model\n",
    "from keras.layers import Reshape, Dense, Conv2D, Input, MaxPool2D, UpSampling2D, Concatenate, Conv2DTranspose\n",
    "from keras.preprocessing.image import array_to_img, img_to_array, load_img, ImageDataGenerator\n",
    "from keras.optimizers import Adam\n",
    "from scipy.misc import imresize\n",
    "from sklearn.model_selection import train_test_split\n",
    "import matplotlib.pyplot as plt\n",
    "import keras.backend.tensorflow_backend as KTF\n",
    "\n",
    "train_dir = 'train/'\n",
    "mask_dir = 'train_masks/'\n",
    "all_images = os.listdir(train_dir)\n",
    "# print(all_images)\n",
    "\n",
    "# original_mask = load_img(mask_dir + images[i].split(\".\")[0] + '_mask.gif')\n",
    "\n",
    "train_images, validation_images = train_test_split(all_images, train_size=0.01, test_size=0.01)\n",
    "\n",
    "def img(images):\n",
    "\n",
    "    while True:\n",
    "        ix = np.random.choice(np.arange(len(images)), 5)\n",
    "        imgs = []\n",
    "        masks = []\n",
    "        labels = []\n",
    "        for i in ix:\n",
    "            original_img = load_img(train_dir + images[i])\n",
    "            array_original_img = img_to_array(original_img)/255\n",
    "            shape = array_original_img.shape\n",
    "            resized_img = imresize(array_original_img, [128, 128]+[3])\n",
    "            imgs.append(resized_img)\n",
    "\n",
    "            original_mask = load_img(mask_dir + images[i].split(\".\")[0] + '_mask.gif')\n",
    "#         .convert('RGBA')\n",
    "            array_mask_img = img_to_array(original_mask)/255\n",
    "            resized_mask = imresize(array_mask_img, [128, 128]+[3])\n",
    "            masks.append(resized_mask[:, :, 0])\n",
    "        \n",
    "        imgs = np.array(imgs)\n",
    "        labels = np.array(masks)\n",
    "        yield imgs, labels.reshape(-1, 128, 128, 1)\n",
    "        \n",
    "\n",
    "data_img = img(train_images)\n",
    "train_img, mask_img = next(data_img)\n",
    "plt.imshow(train_img[0])\n",
    "# plt.imshow(mask_img[0], alpha=0.5)\n",
    "plt.show()\n",
    "print(train_img[0].shape)\n",
    "    "
   ]
  },
  {
   "cell_type": "code",
   "execution_count": 39,
   "metadata": {},
   "outputs": [
    {
     "name": "stdout",
     "output_type": "stream",
     "text": [
      "_________________________________________________________________\n",
      "Layer (type)                 Output Shape              Param #   \n",
      "=================================================================\n",
      "conv2d_75 (Conv2D)           (None, 128, 128, 64)      1792      \n",
      "_________________________________________________________________\n",
      "conv2d_76 (Conv2D)           (None, 128, 128, 64)      36928     \n",
      "_________________________________________________________________\n",
      "max_pooling2d_17 (MaxPooling (None, 64, 64, 64)        0         \n",
      "_________________________________________________________________\n",
      "conv2d_77 (Conv2D)           (None, 64, 64, 128)       73856     \n",
      "_________________________________________________________________\n",
      "conv2d_78 (Conv2D)           (None, 64, 64, 128)       147584    \n",
      "_________________________________________________________________\n",
      "max_pooling2d_18 (MaxPooling (None, 32, 32, 128)       0         \n",
      "_________________________________________________________________\n",
      "conv2d_79 (Conv2D)           (None, 32, 32, 256)       295168    \n",
      "_________________________________________________________________\n",
      "conv2d_80 (Conv2D)           (None, 32, 32, 256)       590080    \n",
      "_________________________________________________________________\n",
      "up_sampling2d_17 (UpSampling (None, 64, 64, 256)       0         \n",
      "_________________________________________________________________\n",
      "conv2d_81 (Conv2D)           (None, 64, 64, 256)       590080    \n",
      "_________________________________________________________________\n",
      "conv2d_82 (Conv2D)           (None, 64, 64, 256)       590080    \n",
      "_________________________________________________________________\n",
      "up_sampling2d_18 (UpSampling (None, 128, 128, 256)     0         \n",
      "_________________________________________________________________\n",
      "conv2d_83 (Conv2D)           (None, 128, 128, 128)     295040    \n",
      "_________________________________________________________________\n",
      "conv2d_84 (Conv2D)           (None, 128, 128, 128)     147584    \n",
      "_________________________________________________________________\n",
      "conv2d_85 (Conv2D)           (None, 128, 128, 1)       1153      \n",
      "=================================================================\n",
      "Total params: 2,769,345\n",
      "Trainable params: 2,769,345\n",
      "Non-trainable params: 0\n",
      "_________________________________________________________________\n"
     ]
    }
   ],
   "source": [
    "model = Sequential()\n",
    "\n",
    "model.add(Conv2D(64, (3, 3), input_shape=(128, 128, 3), padding='same'))\n",
    "model.add(Conv2D(64, (3, 3), padding='same', activation='relu'))\n",
    "model.add(MaxPool2D(pool_size=(2, 2)))\n",
    "model.add(Conv2D(128, (3, 3), padding='same', activation='relu'))\n",
    "model.add(Conv2D(128, (3, 3), padding='same', activation='relu'))\n",
    "model.add(MaxPool2D(pool_size=(2, 2)))\n",
    "model.add(Conv2D(256, (3, 3), padding='same', activation='relu'))\n",
    "model.add(Conv2D(256, (3, 3), padding='same', activation='relu'))\n",
    "\n",
    "model.add(UpSampling2D((2, 2)))\n",
    "model.add(Conv2D(256, (3, 3), padding='same'))\n",
    "model.add(Conv2D(256, (3, 3), padding='same', activation='relu'))\n",
    "model.add(UpSampling2D((2, 2)))\n",
    "model.add(Conv2D(128, (3, 3), padding='same'))\n",
    "model.add(Conv2D(128, (3, 3), padding='same', activation='relu'))\n",
    "model.add(Conv2D(1, (3, 3), padding='same', activation='sigmoid'))\n",
    "\n",
    "model.summary()"
   ]
  },
  {
   "cell_type": "code",
   "execution_count": 23,
   "metadata": {
    "collapsed": true
   },
   "outputs": [],
   "source": [
    "# Now let's use Tensorflow to write our own dice_coeficcient metric\n",
    "def dice_coef(y_true, y_pred):\n",
    "    smooth = 1e-5\n",
    "    \n",
    "    y_true = tf.round(tf.reshape(y_true, [-1]))\n",
    "    y_pred = tf.round(tf.reshape(y_pred, [-1]))\n",
    "    \n",
    "    isct = tf.reduce_sum(y_true * y_pred)\n",
    "    \n",
    "    return 2 * isct / (tf.reduce_sum(y_true) + tf.reduce_sum(y_pred))"
   ]
  },
  {
   "cell_type": "code",
   "execution_count": 40,
   "metadata": {},
   "outputs": [
    {
     "name": "stdout",
     "output_type": "stream",
     "text": [
      "Epoch 1/5\n",
      "5/5 [==============================] - 7s - loss: -615.0417 - dice_coef: 1.7716     \n",
      "Epoch 2/5\n",
      "5/5 [==============================] - 6s - loss: -745.4576 - dice_coef: 1.9584     \n",
      "Epoch 3/5\n",
      "5/5 [==============================] - 5s - loss: -848.5582 - dice_coef: 1.9636     \n",
      "Epoch 4/5\n",
      "5/5 [==============================] - 6s - loss: -824.4447 - dice_coef: 1.9627     \n",
      "Epoch 5/5\n",
      "5/5 [==============================] - 5s - loss: -808.8617 - dice_coef: 1.9614     \n"
     ]
    },
    {
     "data": {
      "image/png": "[encoded data removed]",
      "text/plain": [
       "<matplotlib.figure.Figure at 0x7f7e1a8fff60>"
      ]
     },
     "metadata": {},
     "output_type": "display_data"
    }
   ],
   "source": [
    "model.compile(optimizer=Adam(1e-4), loss='binary_crossentropy', metrics=[dice_coef])\n",
    "session = tf.Session('')\n",
    "KTF.set_session(session)\n",
    "KTF.set_learning_phase(1)\n",
    "model.fit_generator(data_img, steps_per_epoch=5, epochs=5)\n",
    "\n",
    "masks = model.predict(train_img)\n",
    "plt.imshow(masks[0].reshape(128, 128), alpha=1)\n",
    "#     plt.imshow(train_img[0], alpha=0.1)\n",
    "plt.show()"
   ]
  },
  {
   "cell_type": "code",
   "execution_count": null,
   "metadata": {
    "collapsed": true
   },
   "outputs": [],
   "source": [
    "    image = model.predict(train_img)\n",
    "    plt.imshow(image)\n",
    "    # plt.imshow(mask_img[0], alpha=0.5)\n",
    "    plt.show()"
   ]
  }
 ],
 "metadata": {
  "kernelspec": {
   "display_name": "Python 3",
   "language": "python",
   "name": "python3"
  },
  "language_info": {
   "codemirror_mode": {
    "name": "ipython",
    "version": 3
   },
   "file_extension": ".py",
   "mimetype": "text/x-python",
   "name": "python",
   "nbconvert_exporter": "python",
   "pygments_lexer": "ipython3",
   "version": "3.6.1"
  }
 },
 "nbformat": 4,
 "nbformat_minor": 2
}
