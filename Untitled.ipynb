{
 "cells": [
  {
   "cell_type": "code",
   "execution_count": 41,
   "metadata": {},
   "outputs": [
    {
     "name": "stdout",
     "output_type": "stream",
     "text": [
      "[ 0.  0.  0.  0.  0.  0.  1.  0.  0.  0.]\n"
     ]
    }
   ],
   "source": [
    "from keras.datasets import cifar10\n",
    "(X_train, y_train), (X_test, y_test) = cifar10.load_data()\n",
    "print(Y_train[0])\n",
    "X_train = X_train.reshape(X_train.shape[0], X_train.shape[1], X_train.shape[2], 3)\n"
   ]
  },
  {
   "cell_type": "code",
   "execution_count": 68,
   "metadata": {
    "scrolled": true
   },
   "outputs": [
    {
     "name": "stdout",
     "output_type": "stream",
     "text": [
      "_________________________________________________________________\n",
      "Layer (type)                 Output Shape              Param #   \n",
      "=================================================================\n",
      "conv2d_1 (Conv2D)            (None, 32, 32, 4)         112       \n",
      "_________________________________________________________________\n",
      "max_pooling2d_1 (MaxPooling2 (None, 16, 16, 4)         0         \n",
      "_________________________________________________________________\n",
      "conv2d_2 (Conv2D)            (None, 16, 16, 10)        370       \n",
      "_________________________________________________________________\n",
      "max_pooling2d_2 (MaxPooling2 (None, 8, 8, 10)          0         \n",
      "_________________________________________________________________\n",
      "conv2d_3 (Conv2D)            (None, 8, 8, 10)          910       \n",
      "_________________________________________________________________\n",
      "flatten_1 (Flatten)          (None, 640)               0         \n",
      "_________________________________________________________________\n",
      "dense1 (Dense)               (None, 10)                6410      \n",
      "=================================================================\n",
      "Total params: 7,802\n",
      "Trainable params: 7,802\n",
      "Non-trainable params: 0\n",
      "_________________________________________________________________\n",
      "Test score: 0.593096687635\n",
      "Test accuracy; 0.012099121041\n"
     ]
    },
    {
     "ename": "ValueError",
     "evalue": "cannot reshape array of size 10 into shape (32,32,3)",
     "output_type": "error",
     "traceback": [
      "\u001b[0;31m\u001b[0m",
      "\u001b[0;31mValueError\u001b[0mTraceback (most recent call last)",
      "\u001b[0;32m<ipython-input-68-b456c28cdbb4>\u001b[0m in \u001b[0;36m<module>\u001b[0;34m()\u001b[0m\n\u001b[1;32m     91\u001b[0m \u001b[0;34m\u001b[0m\u001b[0m\n\u001b[1;32m     92\u001b[0m         \u001b[0max\u001b[0m \u001b[0;34m=\u001b[0m \u001b[0mplt\u001b[0m\u001b[0;34m.\u001b[0m\u001b[0msubplot\u001b[0m\u001b[0;34m(\u001b[0m\u001b[0;36m2\u001b[0m\u001b[0;34m,\u001b[0m \u001b[0mn\u001b[0m\u001b[0;34m,\u001b[0m \u001b[0mi\u001b[0m \u001b[0;34m+\u001b[0m \u001b[0;36m1\u001b[0m \u001b[0;34m+\u001b[0m \u001b[0mn\u001b[0m\u001b[0;34m)\u001b[0m\u001b[0;34m\u001b[0m\u001b[0m\n\u001b[0;32m---> 93\u001b[0;31m         \u001b[0mplt\u001b[0m\u001b[0;34m.\u001b[0m\u001b[0mimshow\u001b[0m\u001b[0;34m(\u001b[0m\u001b[0mimages\u001b[0m\u001b[0;34m[\u001b[0m\u001b[0mi\u001b[0m\u001b[0;34m]\u001b[0m\u001b[0;34m.\u001b[0m\u001b[0mreshape\u001b[0m\u001b[0;34m(\u001b[0m\u001b[0;36m32\u001b[0m\u001b[0;34m,\u001b[0m \u001b[0;36m32\u001b[0m\u001b[0;34m,\u001b[0m \u001b[0;36m3\u001b[0m\u001b[0;34m)\u001b[0m\u001b[0;34m)\u001b[0m\u001b[0;34m\u001b[0m\u001b[0m\n\u001b[0m\u001b[1;32m     94\u001b[0m     \u001b[0mplt\u001b[0m\u001b[0;34m.\u001b[0m\u001b[0mshow\u001b[0m\u001b[0;34m(\u001b[0m\u001b[0;34m)\u001b[0m\u001b[0;34m\u001b[0m\u001b[0m\n",
      "\u001b[0;31mValueError\u001b[0m: cannot reshape array of size 10 into shape (32,32,3)"
     ]
    }
   ],
   "source": [
    "import numpy as np\n",
    "from keras.datasets import mnist\n",
    "from keras.models import Sequential\n",
    "from keras.layers import Dense, Dropout, Activation\n",
    "from keras.optimizers import SGD\n",
    "from keras.utils import np_utils\n",
    "import keras.callbacks\n",
    "import keras.backend.tensorflow_backend as KTF\n",
    "from keras.models import Model\n",
    "import tensorflow as tf\n",
    "import matplotlib.pyplot as plt\n",
    "\n",
    "nb_classes = 10\n",
    "\n",
    "(X_train, y_train), (X_test, y_test) = cifar10.load_data()\n",
    "\n",
    "# plt.imshow(X_train[0])\n",
    "# plt.show()\n",
    "\n",
    "X_train = X_train[0:3000]\n",
    "X_test = X_test[0:6000]\n",
    "y_train = y_train[0:3000]\n",
    "y_test = y_test[0:6000]\n",
    "\n",
    "X_train = X_train.reshape(X_train.shape[0], X_train.shape[1], X_train.shape[2], 3)\n",
    "X_test = X_test.reshape(X_test.shape[0], X_test.shape[1], X_test.shape[2], 3)\n",
    "\n",
    "# rescale\n",
    "\n",
    "X_train = X_train.astype(np.float32)\n",
    "X_train /= 255\n",
    "\n",
    "X_test = X_test.astype(np.float32)\n",
    "X_test /= 255\n",
    "\n",
    "Y_train = np_utils.to_categorical(y_train, nb_classes)\n",
    "Y_test = np_utils.to_categorical(y_test, nb_classes)\n",
    "# Y_train = X_train\n",
    "# Y_test = X_test\n",
    "g1 = tf.Graph()\n",
    "with g1.as_default():\n",
    "\n",
    "    session = tf.Session('')\n",
    "    KTF.set_session(session)\n",
    "    KTF.set_learning_phase(1)\n",
    "    \n",
    "    model = Sequential()\n",
    "    model.add(keras.layers.convolutional.Conv2D(4, (3, 3), input_shape = (32, 32, 3), padding='same'))\n",
    "    model.add(keras.layers.pooling.MaxPooling2D(pool_size=(2, 2)))\n",
    "    model.add(keras.layers.convolutional.Conv2D(10, (3, 3), padding='same'))\n",
    "    model.add(keras.layers.pooling.MaxPooling2D(pool_size=(2, 2)))\n",
    "    model.add(keras.layers.convolutional.Conv2D(10, (3, 3), padding='same'))\n",
    "    model.add(keras.layers.core.Flatten())\n",
    "    model.add(Dense(10, activation='sigmoid', kernel_initializer='normal',name='dense1'))\n",
    "#     model.add(keras.layers.core.Reshape((32, 32, 3)))\n",
    "#     model.add(Activation('relu', name='relu1'))\n",
    "#     model.add(Dropout(0.5, name='dropout1'))\n",
    "#     model.add(Dense(128, activation='relu', kernel_initializer='normal', name='dense1'))\n",
    "#     model.add(Dense(10, activation='relu', kernel_initializer='normal', name='dense2'))\n",
    "#     model.add(Dense(8*8*3, activation='sigmoid', kernel_initializer='normal', name='dense3'))\n",
    "#     model.add(keras.layers.core.Reshape((8, 8, 3)))\n",
    "#     model.add(keras.layers.convolutional.Conv2D(3, (3, 3), padding='same'))\n",
    "#     model.add(keras.layers.convolutional.UpSampling2D((2, 2)))\n",
    "#     model.add(keras.layers.convolutional.Conv2D(3, (3, 3), padding='same'))\n",
    "#     model.add(keras.layers.convolutional.UpSampling2D((2, 2)))\n",
    "#     model.add(Dropout(0.5, name='dropout2'))\n",
    "#     model.add(Activation('softmax', name='softmax1'))\n",
    "    \n",
    "#     model.add(Dense(16*16*3, activation='sigmoid', kernel_initializer='normal', name='dense4'))\n",
    "#     model.add(Dense(32*32*3, activation='sigmoid', kernel_initializer='normal', name='dense5'))\n",
    "#     model.add(keras.layers.core.Reshape((32, 32, 3)))\n",
    "    model.summary()\n",
    "\n",
    "#     model.compile(loss='categorical_crossentropy', optimizer=keras.optimizers.Adam(lr=0.01), metrics=['accuracy'])\n",
    "    model.compile(loss='binary_crossentropy', optimizer=keras.optimizers.Adam(lr=0.01), metrics=['accuracy'])\n",
    "#     history = model.fit(X_train, X_train, batch_size=10, epochs = 3, verbose=1)\n",
    "    \n",
    "#     score = model.evaluate(X_test, X_test, verbose=0)\n",
    "    \n",
    "#     model = model(inputs=X_test[0], outputs=a)\n",
    "#     model.predict(X_test)\n",
    "    \n",
    "    print('Test score:', score[0])\n",
    "    print('Test accuracy;', score[1])\n",
    "    \n",
    "    n = 5\n",
    "    images = model.predict(X_test)\n",
    "    for i in range(n):\n",
    "        ax = plt.subplot(2, n, i + 1)\n",
    "        plt.imshow(X_test[i].reshape(32, 32, 3))\n",
    "        \n",
    "        ax = plt.subplot(2, n, i + 1 + n)\n",
    "        plt.imshow(images[i].reshape(32, 32, 3))\n",
    "    plt.show()"
   ]
  },
  {
   "cell_type": "code",
   "execution_count": 8,
   "metadata": {},
   "outputs": [
    {
     "name": "stdout",
     "output_type": "stream",
     "text": [
      "_________________________________________________________________\n",
      "Layer (type)                 Output Shape              Param #   \n",
      "=================================================================\n",
      "dense4 (Dense)               (None, 784)               8624      \n",
      "=================================================================\n",
      "Total params: 8,624\n",
      "Trainable params: 8,624\n",
      "Non-trainable params: 0\n",
      "_________________________________________________________________\n",
      "Epoch 1/5\n",
      "3000/3000 [==============================] - 0s - loss: 0.5995 - acc: 0.7674     \n",
      "Epoch 2/5\n",
      "3000/3000 [==============================] - 0s - loss: 0.4565 - acc: 0.8022     \n",
      "Epoch 3/5\n",
      "3000/3000 [==============================] - 0s - loss: 0.3744 - acc: 0.7999     - ETA: 0s - loss: 0.4036 - a\n",
      "Epoch 4/5\n",
      "3000/3000 [==============================] - 0s - loss: 0.3268 - acc: 0.7976     \n",
      "Epoch 5/5\n",
      "3000/3000 [==============================] - 0s - loss: 0.2978 - acc: 0.7964     \n"
     ]
    },
    {
     "data": {
      "image/png": "[encoded data removed]",
      "text/plain": [
       "<matplotlib.figure.Figure at 0x7f7eb9ddca58>"
      ]
     },
     "metadata": {},
     "output_type": "display_data"
    }
   ],
   "source": [
    "with tf.Graph().as_default():\n",
    "\n",
    "    session = tf.InteractiveSession()\n",
    "    KTF.set_session(session)\n",
    "    KTF.set_learning_phase(1)\n",
    "    \n",
    "    X_train = X_train.reshape(X_train.shape[0], 784)\n",
    "    X_test = X_test.reshape(X_test.shape[0], 784)\n",
    "    \n",
    "    model = Sequential()\n",
    "    model.add(Dense(784, activation='sigmoid', input_shape=(10,), kernel_initializer='normal', name='dense4'))\n",
    "#     model.add(Activation('relu', name='relu1'))\n",
    "    model.summary()\n",
    "    model.compile(loss='binary_crossentropy', optimizer=keras.optimizers.Adam(lr=0.01), metrics=['accuracy'])\n",
    "    history = model.fit(Y_train, X_train, batch_size=100, epochs = 5, verbose=1)\n",
    "    \n",
    "    n = 3\n",
    "    images = model.predict(Y_test)\n",
    "    for i in range(n):\n",
    "        ax = plt.subplot(2, n, i + 1)\n",
    "        plt.imshow(X_test[i].reshape(28, 28))\n",
    "        \n",
    "        ax = plt.subplot(2, n, i + 1 + n)\n",
    "        plt.imshow(images[i].reshape(28, 28))\n",
    "    plt.show()"
   ]
  },
  {
   "cell_type": "code",
   "execution_count": null,
   "metadata": {
    "collapsed": true
   },
   "outputs": [],
   "source": [
    "\n"
   ]
  }
 ],
 "metadata": {
  "kernelspec": {
   "display_name": "Python 3",
   "language": "python",
   "name": "python3"
  },
  "language_info": {
   "codemirror_mode": {
    "name": "ipython",
    "version": 3
   },
   "file_extension": ".py",
   "mimetype": "text/x-python",
   "name": "python",
   "nbconvert_exporter": "python",
   "pygments_lexer": "ipython3",
   "version": "3.6.2"
  }
 },
 "nbformat": 4,
 "nbformat_minor": 2
}
